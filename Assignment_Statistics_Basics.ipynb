{
  "nbformat": 4,
  "nbformat_minor": 0,
  "metadata": {
    "colab": {
      "provenance": []
    },
    "kernelspec": {
      "name": "python3",
      "display_name": "Python 3"
    },
    "language_info": {
      "name": "python"
    }
  },
  "cells": [
    {
      "cell_type": "markdown",
      "source": [
        "# **Statistics Basics Assignment Questions**"
      ],
      "metadata": {
        "id": "oaFvKKHqiZSj"
      }
    },
    {
      "cell_type": "markdown",
      "source": [
        "###**1. What is statistics, and why is it important?**"
      ],
      "metadata": {
        "id": "sudrecYzisyo"
      }
    },
    {
      "cell_type": "markdown",
      "source": [
        "**Statistics** is the science of collecting, analyzing, and interpreting data.\n",
        "In data analytics, it's crucial for identifying patterns, making predictions, and supporting decision-making with evidence.\n",
        "\n",
        "**statistics is essential because it helps:**\n",
        "\n",
        "1. Understand data through measures like mean, median, standard deviation, etc.\n",
        "2. Identify patterns and trends to make informed decisions.\n",
        "3. Validate results using hypothesis testing and confidence intervals.\n",
        "4. Build predictive models using statistical techniques like regression analysis."
      ],
      "metadata": {
        "id": "4IMBWs6ygxmO"
      }
    },
    {
      "cell_type": "markdown",
      "source": [
        "###**2. What are the two main types of statistics?**"
      ],
      "metadata": {
        "id": "uzClagk3i2S7"
      }
    },
    {
      "cell_type": "markdown",
      "source": [
        "**The two main types of statistics are:**\n",
        "\n",
        "**Descriptive Statistics -** These summarize and organize data so it can be easily understood. Examples include measures like mean, median, mode, standard deviation, and graphs such as histograms or pie charts.\n",
        "\n",
        "**Inferential Statistics -** These use a sample of data to make inferences or generalizations about a population. This includes hypothesis testing, confidence intervals, regression analysis, and more."
      ],
      "metadata": {
        "id": "D1mtKDqViypu"
      }
    },
    {
      "cell_type": "markdown",
      "source": [
        "###**3. What are descriptive statistics?**"
      ],
      "metadata": {
        "id": "9XSJZrHoi6fq"
      }
    },
    {
      "cell_type": "markdown",
      "source": [
        "**Descriptive statistics** are methods used to summarize and organize data using measures like mean, median, mode, range, and standard deviation.\n",
        "They help describe the main features of a dataset without making predictions or generalizations."
      ],
      "metadata": {
        "id": "n3FtYiCLjOct"
      }
    },
    {
      "cell_type": "markdown",
      "source": [
        "###**4. What is inferential statistics?**"
      ],
      "metadata": {
        "id": "QD6WZD8Ji-6u"
      }
    },
    {
      "cell_type": "markdown",
      "source": [
        "**Inferential statistics** involves making predictions or generalizations about a population based on a sample of data.\n",
        "It uses techniques like hypothesis testing, confidence intervals, and regression to draw conclusions beyond the observed data."
      ],
      "metadata": {
        "id": "-pBm_ZVvjY-h"
      }
    },
    {
      "cell_type": "markdown",
      "source": [
        "###**5. What is sampling in statistics?**"
      ],
      "metadata": {
        "id": "0wQVoDTzjDEW"
      }
    },
    {
      "cell_type": "markdown",
      "source": [
        "**Sampling in statistics** is the process of selecting a subset of individuals or items from a larger population to analyze and draw conclusions about the whole group.\n",
        "It makes data collection more practical, cost-effective, and time-efficient."
      ],
      "metadata": {
        "id": "rj5CCkeQjk7M"
      }
    },
    {
      "cell_type": "markdown",
      "source": [
        "###**6. What are the different types of sampling methods?**"
      ],
      "metadata": {
        "id": "agUJdw0UjLg6"
      }
    },
    {
      "cell_type": "markdown",
      "source": [
        "**The main types of sampling methods are:**\n",
        "\n",
        "1. **Random Sampling** – Every member has an equal chance of selection.\n",
        "\n",
        "2. **Systematic Sampling** – Select every kth item from a list.\n",
        "\n",
        "3. **Stratified Sampling** – Divide population into groups (strata) and sample from each.\n",
        "\n",
        "4. **Cluster Sampling** – Divide into clusters, randomly select entire clusters.\n",
        "\n",
        "5. **Convenience Sampling** – Use samples that are easiest to access (non-random)."
      ],
      "metadata": {
        "id": "wo0_e2AMj5MI"
      }
    },
    {
      "cell_type": "markdown",
      "source": [
        "###**7. What is the difference between random and non-random sampling?**"
      ],
      "metadata": {
        "id": "7fd0cX4KjSly"
      }
    },
    {
      "cell_type": "markdown",
      "source": [
        "**Random sampling** is a method where every individual in the population has an equal chance of being selected.\n",
        "It helps ensure unbiased, representative samples and improves the accuracy of conclusions.\n",
        "\n",
        "**Non-random sampling** selects individuals based on convenience, judgment, or other non-random criteria.\n",
        "It is easier and faster but can introduce bias and reduce reliability.\n",
        "Choosing the right method depends on the study's goals and resources."
      ],
      "metadata": {
        "id": "1zGUTZQgkeWV"
      }
    },
    {
      "cell_type": "markdown",
      "source": [
        "###**8. Define and give examples of qualitative and quantitative data?**"
      ],
      "metadata": {
        "id": "KtF361bljVqY"
      }
    },
    {
      "cell_type": "markdown",
      "source": [
        "**Qualitative data** describes characteristics or qualities and is non-numeric.\n",
        "Example: Colors, names, gender, or customer feedback.\n",
        "\n",
        "**Quantitative data** is numerical and measures quantities or amounts.\n",
        "Example: Age, height, income, or number of products sold."
      ],
      "metadata": {
        "id": "R03QsvHtksba"
      }
    },
    {
      "cell_type": "markdown",
      "source": [
        "###**9. What are the different types of data in statistics?**"
      ],
      "metadata": {
        "id": "GXcY7fQ0jc7c"
      }
    },
    {
      "cell_type": "markdown",
      "source": [
        "**The different types of data in statistics are:**\n",
        "\n",
        "1. **Nominal Data** – Categorical data without any order or ranking.\n",
        "**Example:** Gender, color, or nationality.\n",
        "\n",
        "2. **Ordinal Data** – Categorical data with a specific order or ranking.\n",
        "**Example:** Education level (e.g., high school, bachelor's, master's).\n",
        "\n",
        "3. **Interval Data** – Numerical data where the difference between values is meaningful, but there’s no true zero point.\n",
        "**Example:** Temperature in Celsius or Fahrenheit.\n",
        "\n",
        "4. **Ratio Data** – Numerical data with a true zero point, allowing for meaningful ratios.\n",
        "**Example:** Weight, height, or income."
      ],
      "metadata": {
        "id": "S1AFeE9blRwK"
      }
    },
    {
      "cell_type": "markdown",
      "source": [
        "###**10. Explain nominal, ordinal, interval, and ratio levels of measurement?**"
      ],
      "metadata": {
        "id": "eDS6VVwFjj3c"
      }
    },
    {
      "cell_type": "markdown",
      "source": [
        "**The levels of measurement in statistics are:**\n",
        "\n",
        "1. **Nominal** – Data is categorized without any order or ranking.\n",
        "Example: Colors (red, blue, green), or types of animals.\n",
        "\n",
        "2. **Ordinal** – Data is categorized with a specific order or ranking, but the intervals between ranks are not equal.\n",
        "Example: Likert scale (strongly agree, agree, neutral, disagree, strongly disagree).\n",
        "\n",
        "3. **Interval** – Data is ordered, and the difference between values is meaningful, but there is no true zero.\n",
        "Example: Temperature in Celsius or Fahrenheit.\n",
        "\n",
        "4. **Ratio** – Data has order, equal intervals, and a true zero, allowing for meaningful ratios.\n",
        "Example: Weight, height, or age."
      ],
      "metadata": {
        "id": "3S6BbWEOmVbT"
      }
    },
    {
      "cell_type": "markdown",
      "source": [
        "###**11. What is the measure of central tendency?**"
      ],
      "metadata": {
        "id": "UlLihwtvjm0w"
      }
    },
    {
      "cell_type": "markdown",
      "source": [
        "**The measure of central tendency identifies the center of a data set.**\n",
        "\n",
        "**The main types are:**\n",
        "\n",
        "1. **Mean** – The average.\n",
        "\n",
        "2. **Median** – The middle value.\n",
        "\n",
        "3. **Mode** – The most frequent value."
      ],
      "metadata": {
        "id": "KmCF0UpjmtrZ"
      }
    },
    {
      "cell_type": "markdown",
      "source": [
        "###**12. Define mean, median, and mode**"
      ],
      "metadata": {
        "id": "Hj8p8c6Kjq5G"
      }
    },
    {
      "cell_type": "markdown",
      "source": [
        "1. **Mean**: The sum of all values divided by the number of values.\n",
        "\n",
        "2. **Median**: The middle value when the data is arranged in order.\n",
        "\n",
        "3. **Mode**: The value that appears most frequently in the data set.\n",
        "\n",
        "\n"
      ],
      "metadata": {
        "id": "5NzLI0IDm_Kz"
      }
    },
    {
      "cell_type": "markdown",
      "source": [
        "###**13. What is the significance of the measure of central tendency?**"
      ],
      "metadata": {
        "id": "v_F__Aw3j21K"
      }
    },
    {
      "cell_type": "markdown",
      "source": [
        "The measure of central tendency summarizes a dataset with a single value that represents its center.\n",
        "It helps identify the average or typical value, making data easier to understand.\n",
        "It allows for quick comparisons between different datasets.\n",
        "The mean, median, and mode are used to measure central tendency.\n",
        "These measures are essential for analyzing patterns and drawing conclusions from data."
      ],
      "metadata": {
        "id": "pR35_y3jnY-A"
      }
    },
    {
      "cell_type": "markdown",
      "source": [
        "###**14. What is variance, and how is it calculated?**"
      ],
      "metadata": {
        "id": "UmAhkQMNj6uH"
      }
    },
    {
      "cell_type": "markdown",
      "source": [
        "Variance is a measure of how spread out the values in a dataset are around the mean.\n",
        "It is calculated by:\n",
        "\n",
        "Subtracting the mean from each data point to find the deviation.\n",
        "\n",
        "Squaring each deviation to avoid negative values.\n",
        "\n",
        "Averaging the squared deviations.\n",
        "\n",
        "Formula:\n",
        "\n",
        "              Variance = (Σ (xᵢ - μ)²) / N\n",
        "\n",
        "​\n",
        "\n",
        "Where:\n",
        "\n",
        "𝑥\n",
        "𝑖\n",
        "is each data point.\n",
        "\n",
        "𝜇\n",
        "μ is the mean.\n",
        "\n",
        "𝑁\n",
        "N is the number of data points.\n",
        "\n",
        "\n",
        "\n",
        "\n",
        "\n",
        "\n",
        "\n",
        "\n"
      ],
      "metadata": {
        "id": "JYYWu26OnkhI"
      }
    },
    {
      "cell_type": "markdown",
      "source": [
        "###**15. What is standard deviation, and why is it important?**"
      ],
      "metadata": {
        "id": "B4qVbbFCj_SS"
      }
    },
    {
      "cell_type": "markdown",
      "source": [
        "**Standard deviation** measures the average distance of each data point from the mean.\n",
        "It is the square root of variance, making it easier to interpret in the same units as the data.\n",
        "It’s important because it shows how spread out or consistent the data is—low values mean data is close to the mean, high values mean it's more spread out."
      ],
      "metadata": {
        "id": "MBG8jYkTwWn5"
      }
    },
    {
      "cell_type": "markdown",
      "source": [
        "###**16. Define and explain the term range in statistics?**"
      ],
      "metadata": {
        "id": "XndaVYe7kDEM"
      }
    },
    {
      "cell_type": "markdown",
      "source": [
        "Range in statistics is the difference between the highest and lowest values in a dataset.\n",
        "It gives a quick sense of how spread out the data is but doesn't show variability between individual values.\n",
        "Formula:\n",
        "\n",
        "        Range = Maximum value − Minimum value"
      ],
      "metadata": {
        "id": "Am3fnhZcx3WM"
      }
    },
    {
      "cell_type": "markdown",
      "source": [
        "###**17. What is the difference between variance and standard deviation?**"
      ],
      "metadata": {
        "id": "yNR6vHhdkKIi"
      }
    },
    {
      "cell_type": "markdown",
      "source": [
        "**Variance** shows how far data points spread out from the mean by averaging the squared differences.\n",
        "Since it squares the differences, the result is in squared units, which can be hard to interpret.\n",
        "\n",
        "**Standard deviation** solves this by taking the square root of the variance, bringing it back to the original units.\n",
        "This makes standard deviation more practical and widely used in data analysis.\n",
        "Both help understand how consistent or variable the data is.\n",
        "\n"
      ],
      "metadata": {
        "id": "Cb_hSjBJyQF0"
      }
    },
    {
      "cell_type": "markdown",
      "source": [
        "###**18. What is skewness in a dataset?**"
      ],
      "metadata": {
        "id": "MnA5QlDnkS1A"
      }
    },
    {
      "cell_type": "markdown",
      "source": [
        "**Skewness describes the shape and symmetry of a data distribution.**\n",
        "\n",
        "* If a dataset is **positively skewed**, most values are concentrated on the lower end, with a long tail stretching to the right (high values).\n",
        "\n",
        "* If it's **negatively skewed**, most values are on the higher end, with a long tail to the left (low values).\n",
        "\n",
        "* **Zero skewness** means the data is symmetrical, like a normal distribution.\n",
        "\n",
        "Skewness helps analysts understand the direction of outliers and whether the mean is being pulled away from the center."
      ],
      "metadata": {
        "id": "MU86uk_4zQ3P"
      }
    },
    {
      "cell_type": "markdown",
      "source": [
        "###**19. What does it mean if a dataset is positively or negatively skewed?**"
      ],
      "metadata": {
        "id": "g9d0Ipl8kXsM"
      }
    },
    {
      "cell_type": "markdown",
      "source": [
        "If a dataset is positively skewed, it has a long right tail—most values are low, and the mean is greater than the median.\n",
        "If it's negatively skewed, it has a long left tail—most values are high, and the mean is less than the median.\n",
        "Skewness shows where outliers lie and how the data is distributed around the average."
      ],
      "metadata": {
        "id": "dUPWcy_o0jtJ"
      }
    },
    {
      "cell_type": "markdown",
      "source": [
        "###**20. Define and explain kurtosis?**"
      ],
      "metadata": {
        "id": "Rv7pej_Ykc1X"
      }
    },
    {
      "cell_type": "markdown",
      "source": [
        "Kurtosis measures the tailedness or peakness of a data distribution compared to a normal distribution.\n",
        "\n",
        "* **High kurtosis (leptokurtic)**: Sharp peak and heavy tails (more outliers).\n",
        "\n",
        "* **Low kurtosis (platykurtic)**: Flatter peak and light tails (fewer outliers).\n",
        "\n",
        "* **Normal kurtosis (mesokurtic)**: Similar to a normal bell curve.\n",
        "\n",
        "Kurtosis helps in understanding the likelihood of extreme values in a dataset."
      ],
      "metadata": {
        "id": "w9IR3NHJ0yGN"
      }
    },
    {
      "cell_type": "markdown",
      "source": [
        "###**21. What is the purpose of covariance?**"
      ],
      "metadata": {
        "id": "JTcMmS37khaQ"
      }
    },
    {
      "cell_type": "markdown",
      "source": [
        "Covariance measures the relationship between two variables and indicates whether they move together.\n",
        "\n",
        "* If covariance is positive, the variables tend to increase or decrease together.\n",
        "\n",
        "* If covariance is negative, one variable increases while the other decreases.\n",
        "\n",
        "* If covariance is zero, there is no linear relationship.\n",
        "\n",
        "It is used to understand the direction of the relationship between variables in statistical analysis."
      ],
      "metadata": {
        "id": "SC9wVlkl1VU1"
      }
    },
    {
      "cell_type": "markdown",
      "source": [
        "###**22. What does correlation measure in statistics?**"
      ],
      "metadata": {
        "id": "-XQ489TCkm0V"
      }
    },
    {
      "cell_type": "markdown",
      "source": [
        "Correlation measures the strength and direction of a linear relationship between two variables.\n",
        "\n",
        "* A positive correlation means that as one variable increases, the other also increases.\n",
        "\n",
        "* A negative correlation means that as one variable increases, the other decreases.\n",
        "\n",
        "* A correlation of 0 means no linear relationship.\n",
        "\n",
        "The correlation coefficient ranges from -1 to 1, with 1 being a perfect positive correlation, -1 being a perfect negative correlation, and 0 indicating no linear relationship."
      ],
      "metadata": {
        "id": "RjNttsa01iAL"
      }
    },
    {
      "cell_type": "markdown",
      "source": [
        "###**23. What is the difference between covariance and correlation?**"
      ],
      "metadata": {
        "id": "uzPpBVtKkqqL"
      }
    },
    {
      "cell_type": "markdown",
      "source": [
        "**Covariance** measures the direction of the relationship between two variables, indicating whether they move together. However, it does not provide information about the strength of that relationship. **Correlation,** on the other hand, measures both the direction and strength of the linear relationship between variables."
      ],
      "metadata": {
        "id": "TKxh9r5k1s1s"
      }
    },
    {
      "cell_type": "markdown",
      "source": [
        "###**24. What are some real-world applications of statistics?**"
      ],
      "metadata": {
        "id": "I7-MDApMkuTg"
      }
    },
    {
      "cell_type": "markdown",
      "source": [
        "**Statistics is used in many fields, including:**\n",
        "\n",
        "1. **Healthcare**: Analyzing patient data to identify trends, predict disease outbreaks, or evaluate the effectiveness of treatments.\n",
        "\n",
        "2. **Business**: Understanding customer behavior, optimizing marketing strategies, and improving product quality through data analysis.\n",
        "\n",
        "3. **Economics**: Analyzing market trends, inflation rates, and employment data to guide policy decisions.\n",
        "\n",
        "4. **Sports**: Evaluating player performance, game strategies, and predicting outcomes.\n",
        "\n",
        "5. **Social Science**: Conducting surveys and polls to understand public opinion and behavior patterns.\n",
        "\n",
        "Statistics helps make informed decisions, solve problems, and forecast future trends."
      ],
      "metadata": {
        "id": "9p2f6K5o14fr"
      }
    },
    {
      "cell_type": "markdown",
      "source": [
        "# **Practical**"
      ],
      "metadata": {
        "id": "-CG1WNVrk2by"
      }
    },
    {
      "cell_type": "markdown",
      "source": [
        "###**1. How do you calculate the mean, median, and mode of a dataset?**"
      ],
      "metadata": {
        "id": "enVy55Skk-aO"
      }
    },
    {
      "cell_type": "code",
      "source": [
        "import statistics\n",
        "\n",
        "# Sample data set\n",
        "data = [3, 7, 2, 9, 4, 6, 4, 5, 3]\n",
        "\n",
        "# Mean\n",
        "mean = statistics.mean(data)\n",
        "\n",
        "# Median\n",
        "median = statistics.median(data)\n",
        "\n",
        "# Mode\n",
        "mode = statistics.mode(data)\n",
        "\n",
        "# Print results\n",
        "print(f\"Mean: {mean}\")\n",
        "print(f\"Median: {median}\")\n",
        "print(f\"Mode: {mode}\")"
      ],
      "metadata": {
        "colab": {
          "base_uri": "https://localhost:8080/"
        },
        "id": "ZVxggQTlVrfG",
        "outputId": "c7fa33b5-0873-441c-df0d-62e2360f72c6"
      },
      "execution_count": null,
      "outputs": [
        {
          "output_type": "stream",
          "name": "stdout",
          "text": [
            "Mean: 4.777777777777778\n",
            "Median: 4\n",
            "Mode: 3\n"
          ]
        }
      ]
    },
    {
      "cell_type": "markdown",
      "source": [
        "###**2. Write a Python program to compute the variance and standard deviation of a dataset**"
      ],
      "metadata": {
        "id": "8LDVuCnalE9b"
      }
    },
    {
      "cell_type": "code",
      "source": [
        "import statistics\n",
        "\n",
        "# Sample data set\n",
        "data = [3, 7, 2, 9, 4, 6, 4, 5, 3]\n",
        "\n",
        "# Variance\n",
        "variance = statistics.variance(data)\n",
        "\n",
        "# Standard Deviation\n",
        "std_dev = statistics.stdev(data)\n",
        "\n",
        "# Print results\n",
        "print(f\"Variance: {variance}\")\n",
        "print(f\"Standard Deviation: {std_dev}\")"
      ],
      "metadata": {
        "colab": {
          "base_uri": "https://localhost:8080/"
        },
        "id": "01jYPocdVi3R",
        "outputId": "5ac6d0ef-c253-4320-e1db-f3a8511324a0"
      },
      "execution_count": null,
      "outputs": [
        {
          "output_type": "stream",
          "name": "stdout",
          "text": [
            "Variance: 4.944444444444445\n",
            "Standard Deviation: 2.223610677354389\n"
          ]
        }
      ]
    },
    {
      "cell_type": "markdown",
      "source": [
        "###**3. Create a dataset and classify it into nominal, ordinal, interval, and ratio types.**"
      ],
      "metadata": {
        "id": "rgy05r5nlJD5"
      }
    },
    {
      "cell_type": "code",
      "source": [
        "import pandas as pd\n",
        "\n",
        "# Simple dataset\n",
        "data = {\n",
        "    \"Color\": [\"Red\", \"Blue\", \"Green\"],        # Nominal\n",
        "    \"Rank\": [\"1st\", \"2nd\", \"3rd\"],            # Ordinal\n",
        "    \"Temperature\": [30, 25, 20],              # Interval\n",
        "    \"Height (cm)\": [170, 160, 180]            # Ratio\n",
        "}\n",
        "\n",
        "df = pd.DataFrame(data)\n",
        "\n",
        "# Display dataset\n",
        "print(df)\n",
        "\n",
        "# Display classification\n",
        "print(\"\\nData Type Classification:\")\n",
        "print(\"Color        -> Nominal\")\n",
        "print(\"Rank         -> Ordinal\")\n",
        "print(\"Temperature  -> Interval\")\n",
        "print(\"Height       -> Ratio\")"
      ],
      "metadata": {
        "colab": {
          "base_uri": "https://localhost:8080/"
        },
        "id": "aS4s4FmdWDqJ",
        "outputId": "4a1fb5f9-25cc-4685-8bd5-44bcac250872"
      },
      "execution_count": null,
      "outputs": [
        {
          "output_type": "stream",
          "name": "stdout",
          "text": [
            "   Color Rank  Temperature  Height (cm)\n",
            "0    Red  1st           30          170\n",
            "1   Blue  2nd           25          160\n",
            "2  Green  3rd           20          180\n",
            "\n",
            "Data Type Classification:\n",
            "Color        -> Nominal\n",
            "Rank         -> Ordinal\n",
            "Temperature  -> Interval\n",
            "Height       -> Ratio\n"
          ]
        }
      ]
    },
    {
      "cell_type": "markdown",
      "source": [
        "###**4. Implement sampling techniques like random sampling and stratified sampling.**"
      ],
      "metadata": {
        "id": "Epfsw3EJlS28"
      }
    },
    {
      "cell_type": "code",
      "source": [
        "import pandas as pd\n",
        "from sklearn.model_selection import train_test_split\n",
        "\n",
        "#Sample dataset\n",
        "data = {\n",
        "    \"Name\": [\"Alice\", \"Bob\", \"Carol\", \"David\", \"Eve\", \"Frank\"],\n",
        "    \"Gender\": [\"Female\", \"Male\", \"Female\", \"Male\", \"Female\", \"Male\"],\n",
        "    \"Score\": [85, 90, 78, 88, 92, 75] }\n",
        "\n",
        "df = pd.DataFrame(data)\n",
        "\n",
        "print(\"Original Dataset:\\n\", df)\n",
        "\n",
        "#Random Sampling: Select 3 random people\n",
        "random_sample = df.sample(n=3, random_state=1)\n",
        "print(\"\\nRandom Sample:\\n\", random_sample)\n",
        "\n",
        "#Stratified Sampling: Based on 'Gender', select 50% of data\n",
        "stratified_sample, _ = train_test_split(df, test_size=0.5, stratify=df['Gender'], random_state=1)\n",
        "print(\"\\nStratified Sample (by Gender):\\n\", stratified_sample)"
      ],
      "metadata": {
        "colab": {
          "base_uri": "https://localhost:8080/"
        },
        "id": "_r1PmePXX0oz",
        "outputId": "6dc0b5af-da32-4f55-c466-9850f8b0aec4"
      },
      "execution_count": null,
      "outputs": [
        {
          "output_type": "stream",
          "name": "stdout",
          "text": [
            "Original Dataset:\n",
            "     Name  Gender  Score\n",
            "0  Alice  Female     85\n",
            "1    Bob    Male     90\n",
            "2  Carol  Female     78\n",
            "3  David    Male     88\n",
            "4    Eve  Female     92\n",
            "5  Frank    Male     75\n",
            "\n",
            "Random Sample:\n",
            "     Name  Gender  Score\n",
            "2  Carol  Female     78\n",
            "1    Bob    Male     90\n",
            "4    Eve  Female     92\n",
            "\n",
            "Stratified Sample (by Gender):\n",
            "     Name  Gender  Score\n",
            "2  Carol  Female     78\n",
            "1    Bob    Male     90\n",
            "4    Eve  Female     92\n"
          ]
        }
      ]
    },
    {
      "cell_type": "markdown",
      "source": [
        "###**5. Write a Python function to calculate the range of a dataset.**"
      ],
      "metadata": {
        "id": "WgofuLZolZa-"
      }
    },
    {
      "cell_type": "code",
      "source": [
        "def calculate_range(data):\n",
        "    # Ensure data is not empty\n",
        "    if len(data) == 0:\n",
        "        return \"Data set is empty\"\n",
        "\n",
        "    # Calculate the range (max - min)\n",
        "    data_range = max(data) - min(data)\n",
        "    return data_range\n",
        "\n",
        "# Example usage\n",
        "data = [4, 7, 2, 9, 4, 6, 4, 5, 3]\n",
        "result = calculate_range(data)\n",
        "print (\"Maximum Value = \", max(data))\n",
        "print (\"Minimum Value = \", min(data))\n",
        "print(\"Range of the dataset:\", result)"
      ],
      "metadata": {
        "colab": {
          "base_uri": "https://localhost:8080/"
        },
        "id": "pAghroDtZeah",
        "outputId": "44156a35-d747-41b3-8b65-6f1e4a35e3db"
      },
      "execution_count": null,
      "outputs": [
        {
          "output_type": "stream",
          "name": "stdout",
          "text": [
            "Maximum Value =  9\n",
            "Minimum Value =  2\n",
            "Range of the dataset: 7\n"
          ]
        }
      ]
    },
    {
      "cell_type": "markdown",
      "source": [
        "###**6. Create a dataset and plot its histogram to visualize skewness.**"
      ],
      "metadata": {
        "id": "FEbD6BRtlckS"
      }
    },
    {
      "cell_type": "code",
      "source": [
        "import numpy as np\n",
        "import matplotlib.pyplot as plt\n",
        "\n",
        "# Create a positively skewed dataset\n",
        "# Using an exponential distribution to generate skewed data\n",
        "data = np.random.exponential(scale=2, size=1000)\n",
        "\n",
        "# Plotting the histogram\n",
        "plt.figure(figsize=(8,6))\n",
        "plt.hist(data, bins=30, color='skyblue', edgecolor='black')\n",
        "\n",
        "# Adding title and labels\n",
        "plt.title('Histogram of Positively Skewed Data', fontsize=14)\n",
        "plt.xlabel('Values', fontsize=12)\n",
        "plt.ylabel('Frequency', fontsize=12)\n",
        "\n",
        "# Show plot\n",
        "plt.show()"
      ],
      "metadata": {
        "colab": {
          "base_uri": "https://localhost:8080/",
          "height": 569
        },
        "id": "P5dl3BGNaYQa",
        "outputId": "9320677b-4989-46d8-f941-be2c49b474dd"
      },
      "execution_count": null,
      "outputs": [
        {
          "output_type": "display_data",
          "data": {
            "text/plain": [
              "<Figure size 800x600 with 1 Axes>"
            ],
            "image/png": "[encoded data removed]"
          },
          "metadata": {}
        }
      ]
    },
    {
      "cell_type": "markdown",
      "source": [
        "###**7. Calculate skewness and kurtosis of a dataset using Python libraries.**"
      ],
      "metadata": {
        "id": "q649fKhbljWY"
      }
    },
    {
      "cell_type": "code",
      "source": [
        "import numpy as np\n",
        "import pandas as pd\n",
        "from scipy.stats import skew, kurtosis\n",
        "\n",
        "# Create a sample dataset (positively skewed)\n",
        "data = np.random.exponential(scale=2, size=1000)\n",
        "\n",
        "# Convert to a Pandas DataFrame (optional, for better handling)\n",
        "df = pd.DataFrame(data, columns=['Values'])\n",
        "\n",
        "# Calculate Skewness using scipy\n",
        "data_skewness = skew(data)\n",
        "\n",
        "# Calculate Kurtosis using scipy\n",
        "data_kurtosis = kurtosis(data)\n",
        "\n",
        "# Print results\n",
        "print(f\"Skewness of the dataset: {data_skewness}\")\n",
        "print(f\"Kurtosis of the dataset: {data_kurtosis}\")"
      ],
      "metadata": {
        "colab": {
          "base_uri": "https://localhost:8080/"
        },
        "id": "pmx6VJ01aiis",
        "outputId": "7f722336-b5ea-4181-b9a8-d88d0197bea9"
      },
      "execution_count": null,
      "outputs": [
        {
          "output_type": "stream",
          "name": "stdout",
          "text": [
            "Skewness of the dataset: 1.9294673282152535\n",
            "Kurtosis of the dataset: 5.314837962664045\n"
          ]
        }
      ]
    },
    {
      "cell_type": "markdown",
      "source": [
        "###|**8. Generate a dataset and demonstrate positive and negative skewness.**"
      ],
      "metadata": {
        "id": "WgkaLbr5ln9s"
      }
    },
    {
      "cell_type": "code",
      "source": [
        "import numpy as np\n",
        "import matplotlib.pyplot as plt\n",
        "from scipy.stats import skew, kurtosis\n",
        "\n",
        "# Create a positively skewed dataset using an exponential distribution\n",
        "data_positive_skew = np.random.exponential(scale=2, size=1000)\n",
        "\n",
        "# Create a negatively skewed dataset using an inverse exponential distribution (1/x)\n",
        "data_negative_skew = np.random.exponential(scale=2, size=1000)[::-1]\n",
        "\n",
        "# Calculate skewness for both datasets\n",
        "positive_skewness = skew(data_positive_skew)\n",
        "negative_skewness = skew(data_negative_skew)\n",
        "\n",
        "# Plotting both datasets\n",
        "plt.figure(figsize=(12, 6))\n",
        "\n",
        "# Positive Skew Plot\n",
        "plt.subplot(1, 2, 1)\n",
        "plt.hist(data_positive_skew, bins=30, color='skyblue', edgecolor='black')\n",
        "plt.title(f'Positively Skewed Data (Skewness: {positive_skewness:.2f})')\n",
        "plt.xlabel('Values')\n",
        "plt.ylabel('Frequency')\n",
        "\n",
        "# Negative Skew Plot\n",
        "plt.subplot(1, 2, 2)\n",
        "plt.hist(data_negative_skew, bins=30, color='salmon', edgecolor='black')\n",
        "plt.title(f'Negatively Skewed Data (Skewness: {negative_skewness:.2f})')\n",
        "plt.xlabel('Values')\n",
        "plt.ylabel('Frequency')\n",
        "\n",
        "# Show the plot\n",
        "plt.tight_layout()\n",
        "plt.show()\n",
        "\n",
        "# Print the skewness values\n",
        "print(f\"Skewness of Positively Skewed Data: {positive_skewness}\")\n",
        "print(f\"Skewness of Negatively Skewed Data: {negative_skewness}\")"
      ],
      "metadata": {
        "colab": {
          "base_uri": "https://localhost:8080/",
          "height": 643
        },
        "id": "RMXLRR8Fay8J",
        "outputId": "00cb227a-9e59-4384-8ff3-10de9afe668e"
      },
      "execution_count": null,
      "outputs": [
        {
          "output_type": "display_data",
          "data": {
            "text/plain": [
              "<Figure size 1200x600 with 2 Axes>"
            ],
            "image/png": "[encoded data removed]"
          },
          "metadata": {}
        },
        {
          "output_type": "stream",
          "name": "stdout",
          "text": [
            "Skewness of Positively Skewed Data: 1.7263113649420943\n",
            "Skewness of Negatively Skewed Data: 2.1110603936347068\n"
          ]
        }
      ]
    },
    {
      "cell_type": "markdown",
      "source": [
        "###**9. Write a Python script to calculate covariance between two datasets.**"
      ],
      "metadata": {
        "id": "0HAq3VMElsfy"
      }
    },
    {
      "cell_type": "code",
      "source": [
        "import numpy as np\n",
        "\n",
        "# Define two datasets (arrays)\n",
        "data1 = np.array([12, 15, 17, 10, 19, 21, 14])\n",
        "data2 = np.array([8, 11, 9, 7, 10, 13, 12])\n",
        "\n",
        "# Calculate covariance using numpy's cov function\n",
        "covariance_matrix = np.cov(data1, data2)\n",
        "\n",
        "# Covariance is at position [0, 1] or [1, 0] in the covariance matrix\n",
        "covariance = covariance_matrix[0, 1]\n",
        "\n",
        "# Output the covariance\n",
        "print(f\"Covariance between the two datasets: {covariance}\")"
      ],
      "metadata": {
        "colab": {
          "base_uri": "https://localhost:8080/"
        },
        "id": "fzDdnMzabAVG",
        "outputId": "aef880db-cf1b-4fc7-d414-024172f8896b"
      },
      "execution_count": null,
      "outputs": [
        {
          "output_type": "stream",
          "name": "stdout",
          "text": [
            "Covariance between the two datasets: 5.833333333333333\n"
          ]
        }
      ]
    },
    {
      "cell_type": "markdown",
      "source": [
        "###**10. Write a Python script to calculate the correlation coefficient between two datasets.**"
      ],
      "metadata": {
        "id": "WeuNv_rnlzOA"
      }
    },
    {
      "cell_type": "code",
      "source": [
        "import numpy as np\n",
        "\n",
        "# Define two datasets (arrays)\n",
        "data1 = np.array([12, 15, 17, 10, 19, 21, 14])\n",
        "data2 = np.array([8, 11, 9, 7, 10, 13, 12])\n",
        "\n",
        "# Calculate the correlation coefficient using numpy's corrcoef function\n",
        "correlation_matrix = np.corrcoef(data1, data2)\n",
        "\n",
        "# The correlation coefficient is at position [0, 1] or [1, 0] in the matrix\n",
        "correlation_coefficient = correlation_matrix[0, 1]\n",
        "\n",
        "# Output the correlation coefficient\n",
        "print(f\"Correlation coefficient between the two datasets: {correlation_coefficient}\")"
      ],
      "metadata": {
        "colab": {
          "base_uri": "https://localhost:8080/"
        },
        "id": "QG97HQwCbSTB",
        "outputId": "82239120-7785-484d-f11f-796c765f9c6c"
      },
      "execution_count": null,
      "outputs": [
        {
          "output_type": "stream",
          "name": "stdout",
          "text": [
            "Correlation coefficient between the two datasets: 0.6983260239091694\n"
          ]
        }
      ]
    },
    {
      "cell_type": "markdown",
      "source": [
        "###**11. Create a scatter plot to visualize the relationship between two variables.**"
      ],
      "metadata": {
        "id": "gbr2QQOFl2is"
      }
    },
    {
      "cell_type": "code",
      "source": [
        "import numpy as np\n",
        "import matplotlib.pyplot as plt\n",
        "\n",
        "# Define two datasets (arrays)\n",
        "data1 = np.array([12, 15, 17, 10, 19, 21, 14])\n",
        "data2 = np.array([8, 11, 9, 7, 10, 13, 12])\n",
        "\n",
        "# Create a scatter plot\n",
        "plt.figure(figsize=(8,6))\n",
        "plt.scatter(data1, data2, color='blue', edgecolor='black')\n",
        "\n",
        "# Add title and labels\n",
        "plt.title('Scatter Plot: Relationship between Data1 and Data2', fontsize=14)\n",
        "plt.xlabel('Data1', fontsize=12)\n",
        "plt.ylabel('Data2', fontsize=12)\n",
        "\n",
        "# Show the plot\n",
        "plt.show()"
      ],
      "metadata": {
        "colab": {
          "base_uri": "https://localhost:8080/",
          "height": 569
        },
        "id": "fEGfn54MbbP9",
        "outputId": "b1938730-5453-4c58-a10d-734e9c3708ac"
      },
      "execution_count": null,
      "outputs": [
        {
          "output_type": "display_data",
          "data": {
            "text/plain": [
              "<Figure size 800x600 with 1 Axes>"
            ],
            "image/png": "[encoded data removed]"
          },
          "metadata": {}
        }
      ]
    },
    {
      "cell_type": "markdown",
      "source": [
        "###**12. Implement and compare simple random sampling and systematic sampling.**"
      ],
      "metadata": {
        "id": "btf4dtqPl6Va"
      }
    },
    {
      "cell_type": "code",
      "source": [
        "import numpy as np\n",
        "import random\n",
        "import matplotlib.pyplot as plt\n",
        "\n",
        "# Sample dataset\n",
        "population = list(range(1, 101))  # A population of 100 elements (1 to 100)\n",
        "\n",
        "# 1. Simple Random Sampling: Select 10 random samples\n",
        "random_sample = random.sample(population, 10)\n",
        "\n",
        "# 2. Systematic Sampling: Select every 10th element from the population\n",
        "k = len(population) // 10  # Sample size is 10, so k = total population / sample size\n",
        "start_index = random.randint(0, k-1)  # Randomly choose a starting point between 0 and k-1\n",
        "systematic_sample = population[start_index::k]  # Select every k-th element\n",
        "\n",
        "# Print the samples\n",
        "print(f\"Random Sample: {random_sample}\")\n",
        "print(f\"Systematic Sample: {systematic_sample}\")\n",
        "\n",
        "# 3. Plotting the results for comparison\n",
        "plt.figure(figsize=(10, 6))\n",
        "\n",
        "# Plot random sample\n",
        "plt.subplot(1, 2, 1)\n",
        "plt.scatter(random_sample, [1]*len(random_sample), color='blue', label='Random Sample', edgecolor='black')\n",
        "plt.title('Simple Random Sampling')\n",
        "plt.xlabel('Population Elements')\n",
        "plt.yticks([])\n",
        "\n",
        "# Plot systematic sample\n",
        "plt.subplot(1, 2, 2)\n",
        "plt.scatter(systematic_sample, [1]*len(systematic_sample), color='green', label='Systematic Sample', edgecolor='black')\n",
        "plt.title('Systematic Sampling')\n",
        "plt.xlabel('Population Elements')\n",
        "plt.yticks([])\n",
        "\n",
        "plt.tight_layout()\n",
        "plt.show()"
      ],
      "metadata": {
        "colab": {
          "base_uri": "https://localhost:8080/",
          "height": 643
        },
        "id": "faZymYqlbmCi",
        "outputId": "536ebe79-75d4-40d1-847f-ed9bf691c544"
      },
      "execution_count": null,
      "outputs": [
        {
          "output_type": "stream",
          "name": "stdout",
          "text": [
            "Random Sample: [36, 91, 34, 14, 40, 43, 54, 49, 46, 11]\n",
            "Systematic Sample: [1, 11, 21, 31, 41, 51, 61, 71, 81, 91]\n"
          ]
        },
        {
          "output_type": "display_data",
          "data": {
            "text/plain": [
              "<Figure size 1000x600 with 2 Axes>"
            ],
            "image/png": "[encoded data removed]"
          },
          "metadata": {}
        }
      ]
    },
    {
      "cell_type": "markdown",
      "source": [
        "###**13. Calculate the mean, median, and mode of grouped data.**"
      ],
      "metadata": {
        "id": "AW0sHGlMl_Kg"
      }
    },
    {
      "cell_type": "code",
      "source": [
        "# Grouped data\n",
        "class_intervals = [(0, 10), (10, 20), (20, 30), (30, 40), (40, 50)]\n",
        "frequencies = [5, 8, 12, 7, 3]\n",
        "\n",
        "# 1. Calculate midpoints\n",
        "midpoints = [(start + end) / 2 for start, end in class_intervals]\n",
        "\n",
        "# 2. Calculate mean\n",
        "mean = sum(f * m for f, m in zip(frequencies, midpoints)) / sum(frequencies)\n",
        "\n",
        "# 3. Calculate cumulative frequencies for median\n",
        "cumulative_frequencies = [sum(frequencies[:i+1]) for i in range(len(frequencies))]\n",
        "\n",
        "# Find median class\n",
        "total_freq = sum(frequencies)\n",
        "half_total = total_freq / 2\n",
        "median_class_index = next(i for i, cf in enumerate(cumulative_frequencies) if cf >= half_total)\n",
        "\n",
        "# Median calculation\n",
        "L = class_intervals[median_class_index][0]\n",
        "F = cumulative_frequencies[median_class_index - 1] if median_class_index > 0 else 0\n",
        "f = frequencies[median_class_index]\n",
        "h = class_intervals[median_class_index][1] - class_intervals[median_class_index][0]\n",
        "\n",
        "median = L + ((half_total - F) / f) * h\n",
        "\n",
        "# 4. Calculate mode\n",
        "mode_class_index = frequencies.index(max(frequencies))  # modal class index\n",
        "L_mode = class_intervals[mode_class_index][0]\n",
        "f1 = frequencies[mode_class_index]\n",
        "f0 = frequencies[mode_class_index - 1] if mode_class_index > 0 else 0\n",
        "f2 = frequencies[mode_class_index + 1] if mode_class_index < len(frequencies) - 1 else 0\n",
        "mode = L_mode + ((f1 - f0) / (2 * f1 - f0 - f2)) * h\n",
        "\n",
        "# Output the results\n",
        "print(f\"Mean: {mean:.2f}\")\n",
        "print(f\"Median: {median:.2f}\")\n",
        "print(f\"Mode: {mode:.2f}\")"
      ],
      "metadata": {
        "colab": {
          "base_uri": "https://localhost:8080/"
        },
        "id": "qXSaDMnEbzUx",
        "outputId": "b95bd4ba-8876-45fc-c999-e4a108404105"
      },
      "execution_count": null,
      "outputs": [
        {
          "output_type": "stream",
          "name": "stdout",
          "text": [
            "Mean: 23.57\n",
            "Median: 23.75\n",
            "Mode: 24.44\n"
          ]
        }
      ]
    },
    {
      "cell_type": "markdown",
      "source": [
        "###**14. Simulate data using Python and calculate its central tendency and dispersion.**"
      ],
      "metadata": {
        "id": "jzNp9ayemD9Q"
      }
    },
    {
      "cell_type": "code",
      "source": [
        "import numpy as np\n",
        "import pandas as pd\n",
        "from scipy import stats\n",
        "\n",
        "# Step 1: Simulate Data (Normal Distribution)\n",
        "np.random.seed(42)  # Set seed for reproducibility\n",
        "data = np.random.normal(loc=50, scale=10, size=100)  # mean=50, std=10, n=100\n",
        "\n",
        "# Step 2: Calculate Central Tendency\n",
        "mean = np.mean(data)\n",
        "median = np.median(data)\n",
        "mode_result = stats.mode(data)  # This returns two arrays: mode and count\n",
        "\n",
        "# Check if mode_result.mode is an array before indexing\n",
        "if isinstance(mode_result.mode, np.ndarray):\n",
        "    mode = mode_result.mode[0]  # Extract the mode value if it's an array\n",
        "else:\n",
        "    mode = mode_result.mode   # Otherwise, assign the scalar value directly\n",
        "\n",
        "# Step 3: Calculate Dispersion\n",
        "variance = np.var(data)\n",
        "std_dev = np.std(data)\n",
        "data_range = np.max(data) - np.min(data)\n",
        "\n",
        "# Output the results\n",
        "print(f\"Mean: {mean:.2f}\")\n",
        "print(f\"Median: {median:.2f}\")\n",
        "print(f\"Mode: {mode:.2f}\")\n",
        "print(f\"Variance: {variance:.2f}\")\n",
        "print(f\"Standard Deviation: {std_dev:.2f}\")\n",
        "print(f\"Range: {data_range:.2f}\")"
      ],
      "metadata": {
        "colab": {
          "base_uri": "https://localhost:8080/"
        },
        "id": "CJpY_pglee2n",
        "outputId": "011fa63e-7d3b-4f01-ac18-a0ae54df216e"
      },
      "execution_count": null,
      "outputs": [
        {
          "output_type": "stream",
          "name": "stdout",
          "text": [
            "Mean: 48.96\n",
            "Median: 48.73\n",
            "Mode: 23.80\n",
            "Variance: 81.65\n",
            "Standard Deviation: 9.04\n",
            "Range: 44.72\n"
          ]
        }
      ]
    },
    {
      "cell_type": "markdown",
      "source": [
        "###**15. Use NumPy or pandas to summarize a dataset’s descriptive statistics.**"
      ],
      "metadata": {
        "id": "kTbf8En8mLC3"
      }
    },
    {
      "cell_type": "code",
      "source": [
        "import numpy as np\n",
        "import pandas as pd\n",
        "\n",
        "# Step 1: Simulate Data using NumPy (100 random data points)\n",
        "np.random.seed(42)  # Set seed for reproducibility\n",
        "data = np.random.normal(loc=50, scale=10, size=100)  # Mean = 50, Std = 10, Size = 100\n",
        "\n",
        "# Step 2: Create a Pandas DataFrame\n",
        "df = pd.DataFrame(data, columns=['Value'])\n",
        "\n",
        "# Step 3: Calculate Descriptive Statistics using Pandas describe()\n",
        "summary = df.describe()\n",
        "\n",
        "# Output the summary statistics\n",
        "print(summary)"
      ],
      "metadata": {
        "colab": {
          "base_uri": "https://localhost:8080/"
        },
        "id": "JH5y9mfafL8p",
        "outputId": "b16e9c44-7873-4be2-b51b-226c5d36b5b0"
      },
      "execution_count": null,
      "outputs": [
        {
          "output_type": "stream",
          "name": "stdout",
          "text": [
            "            Value\n",
            "count  100.000000\n",
            "mean    48.961535\n",
            "std      9.081684\n",
            "min     23.802549\n",
            "25%     43.990943\n",
            "50%     48.730437\n",
            "75%     54.059521\n",
            "max     68.522782\n"
          ]
        }
      ]
    },
    {
      "cell_type": "markdown",
      "source": [
        "###**16. Plot a boxplot to understand the spread and identify outliers.**"
      ],
      "metadata": {
        "id": "39F6ozu0mOvm"
      }
    },
    {
      "cell_type": "code",
      "source": [
        "import numpy as np\n",
        "import seaborn as sns\n",
        "import matplotlib.pyplot as plt\n",
        "\n",
        "# Step 1: Simulate Data (100 random data points)\n",
        "np.random.seed(42)\n",
        "data = np.random.normal(loc=50, scale=10, size=100)  # mean=50, std=10, n=100\n",
        "\n",
        "# Step 2: Create a boxplot using Seaborn\n",
        "plt.figure(figsize=(8, 6))\n",
        "sns.boxplot(data=data)\n",
        "\n",
        "# Step 3: Customize the plot\n",
        "plt.title('Boxplot of Simulated Data')\n",
        "plt.xlabel('Dataset')\n",
        "\n",
        "# Show the plot\n",
        "plt.show()"
      ],
      "metadata": {
        "colab": {
          "base_uri": "https://localhost:8080/",
          "height": 550
        },
        "id": "r4TT0p8UfrxQ",
        "outputId": "fe430d98-3fbc-4a4c-e81e-950a41fce887"
      },
      "execution_count": null,
      "outputs": [
        {
          "output_type": "display_data",
          "data": {
            "text/plain": [
              "<Figure size 800x600 with 1 Axes>"
            ],
            "image/png": "[encoded data removed]"
          },
          "metadata": {}
        }
      ]
    },
    {
      "cell_type": "markdown",
      "source": [
        "###**17. Calculate the interquartile range (IQR) of a dataset.**"
      ],
      "metadata": {
        "id": "WebsuN6zmWdl"
      }
    },
    {
      "cell_type": "code",
      "source": [
        "import numpy as np\n",
        "\n",
        "# Step 1: Simulate a dataset\n",
        "data = np.random.normal(loc=50, scale=10, size=100)  # Mean = 50, Std = 10, Size = 100\n",
        "\n",
        "# Step 2: Calculate Q1 (25th percentile) and Q3 (75th percentile)\n",
        "Q1 = np.percentile(data, 25)\n",
        "Q3 = np.percentile(data, 75)\n",
        "\n",
        "# Step 3: Calculate IQR\n",
        "IQR = Q3 - Q1\n",
        "\n",
        "# Step 4: Print the results\n",
        "print(f\"Q1 (25th Percentile): {Q1}\")\n",
        "print(f\"Q3 (75th Percentile): {Q3}\")\n",
        "print(f\"Interquartile Range (IQR): {IQR}\")"
      ],
      "metadata": {
        "colab": {
          "base_uri": "https://localhost:8080/"
        },
        "id": "DXDu6pqHf3RI",
        "outputId": "37a9f4bf-1504-4b3c-e0c3-304147644abf"
      },
      "execution_count": null,
      "outputs": [
        {
          "output_type": "stream",
          "name": "stdout",
          "text": [
            "Q1 (25th Percentile): 41.943394768424255\n",
            "Q3 (75th Percentile): 55.381704476627405\n",
            "Interquartile Range (IQR): 13.43830970820315\n"
          ]
        }
      ]
    },
    {
      "cell_type": "markdown",
      "source": [
        "###**18. Implement Z-score normalization and explain its significance.**"
      ],
      "metadata": {
        "id": "yB-br2dxmZfU"
      }
    },
    {
      "cell_type": "code",
      "source": [
        "import numpy as np\n",
        "import matplotlib.pyplot as plt\n",
        "\n",
        "# Step 1: Simulate a dataset (100 random data points)\n",
        "np.random.seed(42)\n",
        "data = np.random.normal(loc=50, scale=10, size=100)  # Mean = 50, Std = 10, n = 100\n",
        "\n",
        "# Step 2: Calculate the mean and standard deviation\n",
        "mean = np.mean(data)\n",
        "std_dev = np.std(data)\n",
        "\n",
        "# Step 3: Calculate the Z-scores\n",
        "z_scores = (data - mean) / std_dev\n",
        "\n",
        "# Step 4: Output the first few Z-scores and original data for comparison\n",
        "print(f\"Original Data (First 5 values): {data[:5]}\")\n",
        "print(f\"Z-Scores (First 5 values): {z_scores[:5]}\")\n",
        "\n",
        "# Step 5: Plot the original data and Z-scores for comparison\n",
        "plt.figure(figsize=(12, 6))\n",
        "\n",
        "# Plot Original Data\n",
        "plt.subplot(1, 2, 1)\n",
        "plt.hist(data, bins=15, color='blue', alpha=0.7)\n",
        "plt.title('Original Data')\n",
        "plt.xlabel('Value')\n",
        "plt.ylabel('Frequency')\n",
        "\n",
        "# Plot Z-Scores\n",
        "plt.subplot(1, 2, 2)\n",
        "plt.hist(z_scores, bins=15, color='green', alpha=0.7)\n",
        "plt.title('Z-Score Normalized Data')\n",
        "plt.xlabel('Z-Score')\n",
        "plt.ylabel('Frequency')\n",
        "\n",
        "plt.tight_layout()\n",
        "plt.show()"
      ],
      "metadata": {
        "colab": {
          "base_uri": "https://localhost:8080/",
          "height": 643
        },
        "id": "HFw76jXugHKC",
        "outputId": "5915d1fe-fcef-4615-deaf-10b85b1148db"
      },
      "execution_count": null,
      "outputs": [
        {
          "output_type": "stream",
          "name": "stdout",
          "text": [
            "Original Data (First 5 values): [54.96714153 48.61735699 56.47688538 65.23029856 47.65846625]\n",
            "Z-Scores (First 5 values): [ 0.66461921 -0.03808894  0.83169721  1.80040643 -0.14420598]\n"
          ]
        },
        {
          "output_type": "display_data",
          "data": {
            "text/plain": [
              "<Figure size 1200x600 with 2 Axes>"
            ],
            "image/png": "[encoded data removed]"
          },
          "metadata": {}
        }
      ]
    },
    {
      "cell_type": "markdown",
      "source": [
        "###**19. Compare two datasets using their standard deviations.**"
      ],
      "metadata": {
        "id": "gDxod5X3md2d"
      }
    },
    {
      "cell_type": "code",
      "source": [
        "import numpy as np\n",
        "\n",
        "# Step 1: Simulate two datasets\n",
        "np.random.seed(42)\n",
        "\n",
        "# Dataset 1 (Mean = 50, Std = 10, 100 data points)\n",
        "data1 = np.random.normal(loc=50, scale=10, size=100)\n",
        "\n",
        "# Dataset 2 (Mean = 50, Std = 5, 100 data points)\n",
        "data2 = np.random.normal(loc=50, scale=5, size=100)\n",
        "\n",
        "# Step 2: Calculate the standard deviations\n",
        "std_dev_1 = np.std(data1)\n",
        "std_dev_2 = np.std(data2)\n",
        "\n",
        "# Step 3: Output the standard deviations and compare them\n",
        "print(f\"Standard Deviation of Dataset 1: {std_dev_1:.2f}\")\n",
        "print(f\"Standard Deviation of Dataset 2: {std_dev_2:.2f}\")\n",
        "\n",
        "# Step 4: Interpret the comparison\n",
        "if std_dev_1 > std_dev_2:\n",
        "    print(\"\\nDataset 1 has a higher spread/variability than Dataset 2.\")\n",
        "elif std_dev_1 < std_dev_2:\n",
        "    print(\"\\nDataset 2 has a higher spread/variability than Dataset 1.\")\n",
        "else:\n",
        "    print(\"\\nBoth datasets have the same spread/variability.\")"
      ],
      "metadata": {
        "colab": {
          "base_uri": "https://localhost:8080/"
        },
        "id": "joVhhCnxgVG7",
        "outputId": "1ce4781e-ed81-4889-c5e4-966399f26ef1"
      },
      "execution_count": null,
      "outputs": [
        {
          "output_type": "stream",
          "name": "stdout",
          "text": [
            "Standard Deviation of Dataset 1: 9.04\n",
            "Standard Deviation of Dataset 2: 4.74\n",
            "\n",
            "Dataset 1 has a higher spread/variability than Dataset 2.\n"
          ]
        }
      ]
    },
    {
      "cell_type": "markdown",
      "source": [
        "###**20. Write a Python program to visualize covariance using a heatmap.**"
      ],
      "metadata": {
        "id": "AKPwzIx0miFT"
      }
    },
    {
      "cell_type": "code",
      "source": [
        "import numpy as np\n",
        "import pandas as pd\n",
        "import seaborn as sns\n",
        "import matplotlib.pyplot as plt\n",
        "\n",
        "# Step 1: Create a dataset (e.g., with random data)\n",
        "np.random.seed(42)\n",
        "\n",
        "# Simulating a dataset with 4 variables (columns)\n",
        "data = np.random.normal(loc=50, scale=10, size=(100, 4))  # 100 rows, 4 columns\n",
        "\n",
        "# Create a pandas DataFrame with column names\n",
        "df = pd.DataFrame(data, columns=['A', 'B', 'C', 'D'])\n",
        "\n",
        "# Step 2: Calculate the covariance matrix using pandas\n",
        "cov_matrix = df.cov()\n",
        "\n",
        "# Step 3: Plot the covariance matrix as a heatmap using seaborn\n",
        "plt.figure(figsize=(8, 6))\n",
        "sns.heatmap(cov_matrix, annot=True, cmap='coolwarm', fmt='.2f', linewidths=0.5, square=True)\n",
        "\n",
        "# Step 4: Customize the plot\n",
        "plt.title('Covariance Matrix Heatmap')\n",
        "plt.show()"
      ],
      "metadata": {
        "colab": {
          "base_uri": "https://localhost:8080/",
          "height": 545
        },
        "id": "PEMDWAiXgftU",
        "outputId": "19be5da7-f591-4c5c-839b-24a2ba12096d"
      },
      "execution_count": null,
      "outputs": [
        {
          "output_type": "display_data",
          "data": {
            "text/plain": [
              "<Figure size 800x600 with 2 Axes>"
            ],
            "image/png": "[encoded data removed]"
          },
          "metadata": {}
        }
      ]
    },
    {
      "cell_type": "markdown",
      "source": [
        "###**21. Use seaborn to create a correlation matrix for a dataset.**"
      ],
      "metadata": {
        "id": "INMzbtRamnl5"
      }
    },
    {
      "cell_type": "code",
      "source": [
        "import numpy as np\n",
        "import pandas as pd\n",
        "import seaborn as sns\n",
        "import matplotlib.pyplot as plt\n",
        "\n",
        "# Step 1: Create a dataset (e.g., using random data)\n",
        "np.random.seed(42)\n",
        "\n",
        "# Simulating a dataset with 4 variables (columns)\n",
        "data = np.random.normal(loc=50, scale=10, size=(100, 4))  # 100 rows, 4 columns\n",
        "\n",
        "# Create a pandas DataFrame with column names\n",
        "df = pd.DataFrame(data, columns=['A', 'B', 'C', 'D'])\n",
        "\n",
        "# Step 2: Calculate the correlation matrix using pandas\n",
        "corr_matrix = df.corr()\n",
        "\n",
        "# Step 3: Plot the correlation matrix as a heatmap using Seaborn\n",
        "plt.figure(figsize=(8, 6))\n",
        "sns.heatmap(corr_matrix, annot=True, cmap='coolwarm', fmt='.2f', linewidths=0.5, square=True)\n",
        "\n",
        "# Step 4: Customize the plot\n",
        "plt.title('Correlation Matrix Heatmap')\n",
        "plt.show()"
      ],
      "metadata": {
        "colab": {
          "base_uri": "https://localhost:8080/",
          "height": 545
        },
        "id": "yDp5V0hTgops",
        "outputId": "75d2950a-9d16-4740-9764-5155d0acd23d"
      },
      "execution_count": null,
      "outputs": [
        {
          "output_type": "display_data",
          "data": {
            "text/plain": [
              "<Figure size 800x600 with 2 Axes>"
            ],
            "image/png": "[encoded data removed]"
          },
          "metadata": {}
        }
      ]
    },
    {
      "cell_type": "markdown",
      "source": [
        "###**22. Generate a dataset and implement both variance and standard deviation computations.**"
      ],
      "metadata": {
        "id": "rWU4kN3HmrVu"
      }
    },
    {
      "cell_type": "code",
      "source": [
        "import numpy as np\n",
        "\n",
        "# Step 1: Generate a random dataset\n",
        "np.random.seed(42)  # Set a seed for reproducibility\n",
        "data = np.random.normal(loc=50, scale=10, size=100)  # 100 data points, mean=50, std=10\n",
        "\n",
        "# Step 2: Compute Variance\n",
        "variance = np.var(data)\n",
        "\n",
        "# Step 3: Compute Standard Deviation\n",
        "std_deviation = np.std(data)\n",
        "\n",
        "# Output the results\n",
        "print(f\"Generated Data (First 5 values): {data[:5]}\")\n",
        "print(f\"Variance of the dataset: {variance:.2f}\")\n",
        "print(f\"Standard Deviation of the dataset: {std_deviation:.2f}\")"
      ],
      "metadata": {
        "colab": {
          "base_uri": "https://localhost:8080/"
        },
        "id": "YipOIvFeg0ny",
        "outputId": "463d802d-2f40-484b-ba93-abe12ef9c138"
      },
      "execution_count": null,
      "outputs": [
        {
          "output_type": "stream",
          "name": "stdout",
          "text": [
            "Generated Data (First 5 values): [54.96714153 48.61735699 56.47688538 65.23029856 47.65846625]\n",
            "Variance of the dataset: 81.65\n",
            "Standard Deviation of the dataset: 9.04\n"
          ]
        }
      ]
    },
    {
      "cell_type": "markdown",
      "source": [
        "###**23. Visualize skewness and kurtosis using Python libraries like matplotlib or seaborn.**"
      ],
      "metadata": {
        "id": "JLkem9CKmwED"
      }
    },
    {
      "cell_type": "code",
      "source": [
        "import numpy as np\n",
        "import pandas as pd\n",
        "import seaborn as sns\n",
        "import matplotlib.pyplot as plt\n",
        "from scipy.stats import skew, kurtosis\n",
        "\n",
        "# Step 1: Generate a dataset with skewness and kurtosis\n",
        "np.random.seed(42)\n",
        "\n",
        "# Generate a right-skewed dataset (positive skew)\n",
        "data_skewed = np.random.exponential(scale=10, size=1000)\n",
        "\n",
        "# Step 2: Calculate Skewness and Kurtosis\n",
        "data_skewness = skew(data_skewed)\n",
        "data_kurtosis = kurtosis(data_skewed)\n",
        "\n",
        "# Step 3: Visualize the Skewness and Kurtosis\n",
        "\n",
        "# Plot the Histogram and Kernel Density Estimate (KDE)\n",
        "plt.figure(figsize=(10, 6))\n",
        "sns.histplot(data_skewed, kde=True, color='skyblue', bins=30)\n",
        "plt.title(f\"Histogram with KDE (Skewness = {data_skewness:.2f}, Kurtosis = {data_kurtosis:.2f})\")\n",
        "plt.xlabel(\"Data Values\")\n",
        "plt.ylabel(\"Frequency\")\n",
        "plt.show()\n",
        "\n",
        "# Boxplot for visualizing spread and potential outliers\n",
        "plt.figure(figsize=(8, 6))\n",
        "sns.boxplot(data=data_skewed, color='lightcoral')\n",
        "plt.title(f\"Boxplot (Skewness = {data_skewness:.2f}, Kurtosis = {data_kurtosis:.2f})\")\n",
        "plt.ylabel(\"Data Values\")\n",
        "plt.show()\n",
        "\n",
        "# Q-Q plot to check for normality\n",
        "import scipy.stats as stats\n",
        "\n",
        "plt.figure(figsize=(8, 6))\n",
        "stats.probplot(data_skewed, dist=\"norm\", plot=plt)\n",
        "plt.title(\"Q-Q Plot to Check Normality\")\n",
        "plt.show()\n",
        "\n",
        "# Print the skewness and kurtosis values\n",
        "print(f\"Skewness of the dataset: {data_skewness:.2f}\")\n",
        "print(f\"Kurtosis of the dataset: {data_kurtosis:.2f}\")"
      ],
      "metadata": {
        "colab": {
          "base_uri": "https://localhost:8080/",
          "height": 1000
        },
        "id": "ainpI5pIhB7U",
        "outputId": "620b68e8-b099-4b00-d79f-2de6b75c347b"
      },
      "execution_count": null,
      "outputs": [
        {
          "output_type": "display_data",
          "data": {
            "text/plain": [
              "<Figure size 1000x600 with 1 Axes>"
            ],
            "image/png": "[encoded data removed]"
          },
          "metadata": {}
        },
        {
          "output_type": "display_data",
          "data": {
            "text/plain": [
              "<Figure size 800x600 with 1 Axes>"
            ],
            "image/png": "[encoded data removed]"
          },
          "metadata": {}
        },
        {
          "output_type": "display_data",
          "data": {
            "text/plain": [
              "<Figure size 800x600 with 1 Axes>"
            ],
            "image/png": "[encoded data removed]"
          },
          "metadata": {}
        },
        {
          "output_type": "stream",
          "name": "stdout",
          "text": [
            "Skewness of the dataset: 1.87\n",
            "Kurtosis of the dataset: 5.22\n"
          ]
        }
      ]
    },
    {
      "cell_type": "markdown",
      "source": [
        "###**24. Implement the Pearson and Spearman correlation coefficients for a dataset.**"
      ],
      "metadata": {
        "id": "D9QV8wgYm1Ab"
      }
    },
    {
      "cell_type": "code",
      "source": [
        "import numpy as np\n",
        "import pandas as pd\n",
        "from scipy.stats import pearsonr, spearmanr\n",
        "\n",
        "# Step 1: Create a sample dataset\n",
        "np.random.seed(42)\n",
        "\n",
        "# Simulate two variables with a linear relationship (Pearson)\n",
        "x = np.random.normal(50, 10, 100)\n",
        "y = 2 * x + np.random.normal(0, 5, 100)  # y is linearly related to x\n",
        "\n",
        "# Step 2: Compute Pearson and Spearman correlation coefficients\n",
        "# Pearson Correlation\n",
        "pearson_corr, _ = pearsonr(x, y)\n",
        "\n",
        "# Spearman Correlation\n",
        "spearman_corr, _ = spearmanr(x, y)\n",
        "\n",
        "# Output the results\n",
        "print(f\"Pearson Correlation Coefficient: {pearson_corr:.2f}\")\n",
        "print(f\"Spearman Correlation Coefficient: {spearman_corr:.2f}\")"
      ],
      "metadata": {
        "colab": {
          "base_uri": "https://localhost:8080/"
        },
        "id": "_xkI04VmhOWU",
        "outputId": "5e2db88c-c651-4c5b-cb3b-1a14b75f4a9c"
      },
      "execution_count": null,
      "outputs": [
        {
          "output_type": "stream",
          "name": "stdout",
          "text": [
            "Pearson Correlation Coefficient: 0.97\n",
            "Spearman Correlation Coefficient: 0.96\n"
          ]
        }
      ]
    }
  ]
}